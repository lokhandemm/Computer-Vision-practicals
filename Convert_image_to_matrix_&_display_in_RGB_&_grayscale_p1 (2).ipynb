{
  "cells": [
    {
      "cell_type": "code",
      "execution_count": null,
      "metadata": {
        "id": "Yh7TaJ3nLVGL"
      },
      "outputs": [],
      "source": [
        "import cv2\n",
        "import numpy as np\n",
        "import matplotlib as plt\n",
        "\n",
        "img = cv2.imread(\"blue_bottle.jpg\")\n",
        "print(img.shape)\n"
      ]
    },
    {
      "cell_type": "code",
      "execution_count": null,
      "metadata": {
        "id": "P-uzI9c9MdnT"
      },
      "outputs": [],
      "source": [
        "print(img)"
      ]
    },
    {
      "cell_type": "code",
      "execution_count": null,
      "metadata": {
        "id": "uAep_s3rMfAi"
      },
      "outputs": [],
      "source": [
        "img_grayscale = cv2.imread(\"blue_bottle.jpg\",0)\n",
        "print(img_grayscale.shape)\n",
        "from google.colab.patches import cv2_imshow\n",
        "cv2_imshow(img_grayscale)"
      ]
    },
    {
      "cell_type": "code",
      "execution_count": null,
      "metadata": {
        "id": "66FpQtY0MrmI"
      },
      "outputs": [],
      "source": [
        "img[:,:,0]=0 # blue channel is set off\n",
        "img[:,:,1]=0 # green channel is set off\n",
        "cv2_imshow(img)"
      ]
    },
    {
      "cell_type": "code",
      "source": [
        "img2 = cv2.imread(\"blue_bottle.jpg\")\n",
        "print(img2.shape)\n",
        "img2[:,:,0]=0\n",
        "img2[:,:,2]=0\n",
        "cv2_imshow(img2)"
      ],
      "metadata": {
        "id": "U8HSejYmNhOL"
      },
      "execution_count": null,
      "outputs": []
    },
    {
      "cell_type": "code",
      "source": [
        "img3=  cv2.imread(\"blue_bottle.jpg\")\n",
        "img3[:,:,1]=0\n",
        "img3[:,:,2]=0\n",
        "cv2_imshow(img3)"
      ],
      "metadata": {
        "id": "mJNT_xAjNqYr"
      },
      "execution_count": null,
      "outputs": []
    },
    {
      "cell_type": "code",
      "source": [],
      "metadata": {
        "id": "bpKoxTl_OIrx"
      },
      "execution_count": null,
      "outputs": []
    }
  ],
  "metadata": {
    "colab": {
      "provenance": []
    },
    "kernelspec": {
      "display_name": "Python 3",
      "name": "python3"
    },
    "language_info": {
      "name": "python"
    }
  },
  "nbformat": 4,
  "nbformat_minor": 0
}